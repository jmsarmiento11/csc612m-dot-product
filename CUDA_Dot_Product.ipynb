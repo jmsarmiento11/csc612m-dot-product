{
  "nbformat": 4,
  "nbformat_minor": 0,
  "metadata": {
    "colab": {
      "provenance": [],
      "gpuType": "T4",
      "include_colab_link": true
    },
    "kernelspec": {
      "name": "python3",
      "display_name": "Python 3"
    },
    "language_info": {
      "name": "python"
    },
    "accelerator": "GPU"
  },
  "cells": [
    {
      "cell_type": "markdown",
      "metadata": {
        "id": "view-in-github",
        "colab_type": "text"
      },
      "source": [
        "<a href=\"https://colab.research.google.com/github/jmsarmiento11/csc612m-dot-product/blob/master/CUDA_Dot_Product.ipynb\" target=\"_parent\"><img src=\"https://colab.research.google.com/assets/colab-badge.svg\" alt=\"Open In Colab\"/></a>"
      ]
    },
    {
      "cell_type": "markdown",
      "source": [
        "###DOTP C++ program version"
      ],
      "metadata": {
        "id": "jVCqR_ea8QHJ"
      }
    },
    {
      "cell_type": "code",
      "source": [
        "%%writefile c_dotProduct.c\n",
        "//Mark Jimbo Sarmiento, MSCS\n",
        "#include <stdio.h>\n",
        "#include <stdlib.h>\n",
        "#include <time.h>\n",
        "#include <math.h>\n",
        "\n",
        "extern void SIMDdotProduct(size_t ARRAY_SIZE, float* A, float* B,float* sdot);\n",
        "extern void x86dotProduct(size_t ARRAY_SIZE, float* A, float* B, float* sdot);\n",
        "\n",
        "const int ARRAY_SIZE = 2<<28;\n",
        "\n",
        "void dotProduct(const float* A, const float* B, float* sdot)\n",
        "{\n",
        "    for (int i = 0; i < ARRAY_SIZE; i++) {\n",
        "        sdot[i] = A[i] * B[i];\n",
        "    }\n",
        "\n",
        "    // add up the elements of the sdot array\n",
        "    float sum = 0;\n",
        "    for (int i = 0; i < ARRAY_SIZE; i++) {\n",
        "        sum += sdot[i];\n",
        "    }\n",
        "\n",
        "    //printf(\"Dot product result: %f\\n\", sum);\n",
        "    //return 0;\n",
        "}\n",
        "\n",
        "void verifyDotProduct(const float* sdot, const float* expected)\n",
        "{\n",
        "    for (int i = 0; i < ARRAY_SIZE; i++) {\n",
        "        if (fabs(sdot[i] - expected[i]) > 1e-5) {\n",
        "            printf(\"Error found at index %d\\n\", i);\n",
        "            return;\n",
        "        }\n",
        "    }\n",
        "    printf(\"No error.\\n\");\n",
        "}\n",
        "\n",
        "int main()\n",
        "{\n",
        "    float* A = (float*)malloc(ARRAY_SIZE * sizeof(float));\n",
        "    float* B = (float*)malloc(ARRAY_SIZE * sizeof(float));\n",
        "    float* sdot = (float*)malloc(ARRAY_SIZE * sizeof(float));\n",
        "    float* expected = (float*)malloc(ARRAY_SIZE * sizeof(float));\n",
        "\n",
        "    // --------------------- C++ version ----------------------------------\n",
        "\n",
        "\n",
        "    //flush out cache\n",
        "    dotProduct(A, B, sdot);\n",
        "\n",
        "    // fill in the host memory with data\n",
        "    for (int i = 0; i < ARRAY_SIZE; i++) {\n",
        "        A[i] = i;\n",
        "        B[i] = i;\n",
        "        expected[i] = A[i] * B[i]; // compute the expected result on the CPU\n",
        "    }\n",
        "\n",
        "    // Measure execution time\n",
        "    clock_t start = clock();\n",
        "\n",
        "    dotProduct(A, B, sdot);\n",
        "\n",
        "    // verify the correctness of the dot product\n",
        "    verifyDotProduct(sdot, expected);\n",
        "\n",
        "    // finish up on the CPU side\n",
        "    float sum = 0;\n",
        "    for (int i = 0; i < ARRAY_SIZE; i++) {\n",
        "        sum += sdot[i];\n",
        "    }\n",
        "\n",
        "    clock_t end = clock();\n",
        "    double time_taken = ((double)(end - start)) * 1e6 / CLOCKS_PER_SEC;\n",
        "\n",
        "    printf(\"Dot product result: %f\\n\", sum);\n",
        "    printf(\"C function took %f microseconds for array size %d \\n\", time_taken, ARRAY_SIZE);\n",
        "// free memory\n",
        "    free(A);\n",
        "    free(B);\n",
        "    free(sdot);\n",
        "    free(expected);\n",
        "\n",
        "    return 0;\n",
        "}"
      ],
      "metadata": {
        "colab": {
          "base_uri": "https://localhost:8080/"
        },
        "id": "5Hg7H2E88WwS",
        "outputId": "b0b8ea2d-e428-427b-f550-bdb3ef8b1ef0"
      },
      "execution_count": 13,
      "outputs": [
        {
          "output_type": "stream",
          "name": "stdout",
          "text": [
            "Overwriting c_dotProduct.c\n"
          ]
        }
      ]
    },
    {
      "cell_type": "code",
      "source": [
        "%%shell\n",
        "g++ c_dotProduct.c -o c_dotProduct"
      ],
      "metadata": {
        "colab": {
          "base_uri": "https://localhost:8080/"
        },
        "id": "XFLbqGUW9Jeb",
        "outputId": "7950467c-b056-4c99-a97e-809fc89b5b0f"
      },
      "execution_count": 14,
      "outputs": [
        {
          "output_type": "execute_result",
          "data": {
            "text/plain": []
          },
          "metadata": {},
          "execution_count": 14
        }
      ]
    },
    {
      "cell_type": "code",
      "source": [
        "%%shell\n",
        "./c_dotProduct"
      ],
      "metadata": {
        "colab": {
          "base_uri": "https://localhost:8080/"
        },
        "id": "NJQWXl7X9QrL",
        "outputId": "6afbfdb3-a822-479e-96ba-9688268aa386"
      },
      "execution_count": 15,
      "outputs": [
        {
          "output_type": "stream",
          "name": "stdout",
          "text": [
            "No error.\n",
            "Dot product result: 4835703278458516698824704.000000\n",
            "C function took 7239440.000000 microseconds for array size 536870912 \n"
          ]
        },
        {
          "output_type": "execute_result",
          "data": {
            "text/plain": []
          },
          "metadata": {},
          "execution_count": 15
        }
      ]
    },
    {
      "cell_type": "markdown",
      "source": [
        "###DOTP CUDA version 1.0 : grid-stride loop with prefetching + mem advise"
      ],
      "metadata": {
        "id": "PaugDyyXA5OV"
      }
    },
    {
      "cell_type": "code",
      "source": [
        "%%writefile dotProdGridStride.cu\n",
        "// Mark Jimbo Sarmiento, MSCS\n",
        "#include <stdio.h>\n",
        "#include <stdlib.h>\n",
        "\n",
        "const int ARRAY_SIZE = 2 << 28;\n",
        "//const int numThreadsPerBlock = 256;\n",
        "\n",
        "__global__ void dotProductKernel(int size, float* sdot, const float* A, const float* B) {\n",
        "    int index = threadIdx.x + blockIdx.x * blockDim.x;\n",
        "    int stride = blockDim.x * gridDim.x;\n",
        "\n",
        "    // each thread computes a dot product of two elements\n",
        "    while (index < size) {\n",
        "        sdot[index] = A[index] * B[index];\n",
        "        index += stride;\n",
        "    }\n",
        "}\n",
        "\n",
        "void verifyDotProduct(const float* sdot, const float* expected) {\n",
        "    for (int i = 0; i < ARRAY_SIZE; i++) {\n",
        "        if (fabs(sdot[i] - expected[i]) > 1e-5) {\n",
        "            printf(\"Error found at index %d\\n\", i);\n",
        "            return;\n",
        "        }\n",
        "    }\n",
        "    printf(\"No error.\\n\");\n",
        "}\n",
        "\n",
        "int main() {\n",
        "    const unsigned ARRAY_BYTES = ARRAY_SIZE * sizeof(float);\n",
        "\n",
        "    // Declare array\n",
        "    float* A, * B, * sdot;\n",
        "    cudaMallocManaged(&A, ARRAY_BYTES);\n",
        "    cudaMallocManaged(&B, ARRAY_BYTES);\n",
        "    cudaMallocManaged(&sdot, ARRAY_BYTES);\n",
        "\n",
        "    // Fill the host memory with data\n",
        "    for (int i = 0; i < ARRAY_SIZE; i++) {\n",
        "        A[i] = float(i);\n",
        "        B[i] = float(i);\n",
        "    }\n",
        "\n",
        "    // Call CUDA kernel\n",
        "    int numBlocks = 1024;\n",
        "    int numThreads = 1024;\n",
        "    printf(\"numBlocks = %d, numThreads = %d\\n\", numBlocks, numThreads);\n",
        "    dotProductKernel<<<numBlocks, numThreads>>>(ARRAY_SIZE, sdot, A, B);\n",
        "\n",
        "    // Barrier\n",
        "    cudaDeviceSynchronize();\n",
        "\n",
        "    // Display the dot product result\n",
        "    float sum = 0.0f;\n",
        "    for (int i = 0; i < ARRAY_SIZE; i++) {\n",
        "        sum += sdot[i];\n",
        "    }\n",
        "    printf(\"Dot product result: %f\\n\", sum);\n",
        "\n",
        "    // Verify the correctness of the dot product\n",
        "    float* expected = (float*)malloc(ARRAY_SIZE * sizeof(float));\n",
        "    for (int i = 0; i < ARRAY_SIZE; i++) {\n",
        "        expected[i] = A[i] * B[i]; // compute the expected result on the CPU\n",
        "    }\n",
        "    verifyDotProduct(sdot, expected);\n",
        "    free(expected);\n",
        "\n",
        "    // Free memory\n",
        "    cudaFree(A);\n",
        "    cudaFree(B);\n",
        "    cudaFree(sdot);\n",
        "\n",
        "    return 0;\n",
        "}\n"
      ],
      "metadata": {
        "colab": {
          "base_uri": "https://localhost:8080/"
        },
        "id": "v2Q0uW_Xj5en",
        "outputId": "a812484f-0bc1-4928-d2dd-d6fad5d4a335"
      },
      "execution_count": 16,
      "outputs": [
        {
          "output_type": "stream",
          "name": "stdout",
          "text": [
            "Overwriting dotProdGridStride.cu\n"
          ]
        }
      ]
    },
    {
      "cell_type": "code",
      "source": [
        "%%shell\n",
        "nvcc dotProdGridStride.cu -o dotProdGridStride"
      ],
      "metadata": {
        "colab": {
          "base_uri": "https://localhost:8080/"
        },
        "id": "_WMXoW3lvggM",
        "outputId": "ae11bd85-ab76-42fb-e547-90e78a4920e6"
      },
      "execution_count": 17,
      "outputs": [
        {
          "output_type": "execute_result",
          "data": {
            "text/plain": []
          },
          "metadata": {},
          "execution_count": 17
        }
      ]
    },
    {
      "cell_type": "code",
      "source": [
        "%%shell\n",
        "nvprof ./dotProdGridStride"
      ],
      "metadata": {
        "colab": {
          "base_uri": "https://localhost:8080/"
        },
        "id": "6XJKwz-gvkNl",
        "outputId": "faa9b25b-949a-4ef5-dce0-3d62bc830df9"
      },
      "execution_count": 18,
      "outputs": [
        {
          "output_type": "stream",
          "name": "stdout",
          "text": [
            "==5306== NVPROF is profiling process 5306, command: ./dotProdGridStride\n",
            "numBlocks = 1024, numThreads = 1024\n",
            "Dot product result: 4835703278458516698824704.000000\n",
            "No error.\n",
            "==5306== Profiling application: ./dotProdGridStride\n",
            "==5306== Profiling result:\n",
            "            Type  Time(%)      Time     Calls       Avg       Min       Max  Name\n",
            " GPU activities:  100.00%  2.03387s         1  2.03387s  2.03387s  2.03387s  dotProductKernel(int, float*, float const *, float const *)\n",
            "      API calls:   75.86%  2.03387s         1  2.03387s  2.03387s  2.03387s  cudaDeviceSynchronize\n",
            "                   18.71%  501.53ms         3  167.18ms  162.45ms  172.10ms  cudaFree\n",
            "                    5.42%  145.31ms         3  48.437ms  17.899us  145.23ms  cudaMallocManaged\n",
            "                    0.00%  113.55us       101  1.1240us     137ns  46.667us  cuDeviceGetAttribute\n",
            "                    0.00%  78.494us         1  78.494us  78.494us  78.494us  cudaLaunchKernel\n",
            "                    0.00%  29.195us         1  29.195us  29.195us  29.195us  cuDeviceGetName\n",
            "                    0.00%  9.9030us         1  9.9030us  9.9030us  9.9030us  cuDeviceGetPCIBusId\n",
            "                    0.00%  2.0490us         3     683ns     225ns  1.4920us  cuDeviceGetCount\n",
            "                    0.00%  1.0170us         2     508ns     369ns     648ns  cuDeviceGet\n",
            "                    0.00%     497ns         1     497ns     497ns     497ns  cuModuleGetLoadingMode\n",
            "                    0.00%     352ns         1     352ns     352ns     352ns  cuDeviceTotalMem\n",
            "                    0.00%     241ns         1     241ns     241ns     241ns  cuDeviceGetUuid\n",
            "\n",
            "==5306== Unified Memory profiling result:\n",
            "Device \"Tesla T4 (0)\"\n",
            "   Count  Avg Size  Min Size  Max Size  Total Size  Total Time  Name\n",
            "   83743  50.029KB  4.0000KB  0.9922MB  3.995544GB  544.9409ms  Host To Device\n",
            "   36864  170.67KB  4.0000KB  0.9961MB  6.000000GB  551.6294ms  Device To Host\n",
            "    6097         -         -         -           -   1.995304s  Gpu page fault groups\n",
            "Total CPU Page faults: 30720\n"
          ]
        },
        {
          "output_type": "execute_result",
          "data": {
            "text/plain": []
          },
          "metadata": {},
          "execution_count": 18
        }
      ]
    }
  ]
}