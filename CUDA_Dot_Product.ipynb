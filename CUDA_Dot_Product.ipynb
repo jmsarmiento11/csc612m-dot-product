{
  "nbformat": 4,
  "nbformat_minor": 0,
  "metadata": {
    "colab": {
      "provenance": [],
      "gpuType": "T4",
      "include_colab_link": true
    },
    "kernelspec": {
      "name": "python3",
      "display_name": "Python 3"
    },
    "language_info": {
      "name": "python"
    },
    "accelerator": "GPU"
  },
  "cells": [
    {
      "cell_type": "markdown",
      "metadata": {
        "id": "view-in-github",
        "colab_type": "text"
      },
      "source": [
        "<a href=\"https://colab.research.google.com/github/jmsarmiento11/csc612m-dot-product/blob/master/CUDA_Dot_Product.ipynb\" target=\"_parent\"><img src=\"https://colab.research.google.com/assets/colab-badge.svg\" alt=\"Open In Colab\"/></a>"
      ]
    },
    {
      "cell_type": "markdown",
      "source": [
        "###DOTP C++ program version"
      ],
      "metadata": {
        "id": "jVCqR_ea8QHJ"
      }
    },
    {
      "cell_type": "code",
      "source": [
        "%%writefile c_dotProduct.c\n",
        "//Mark Jimbo Sarmiento, MSCS\n",
        "#include <stdio.h>\n",
        "#include <stdlib.h>\n",
        "#include <time.h>\n",
        "#include <math.h>\n",
        "\n",
        "extern void SIMDdotProduct(size_t ARRAY_SIZE, float* A, float* B,float* sdot);\n",
        "extern void x86dotProduct(size_t ARRAY_SIZE, float* A, float* B, float* sdot);\n",
        "\n",
        "const int ARRAY_SIZE = 1<<20;\n",
        "\n",
        "void dotProduct(const float* A, const float* B, float* sdot)\n",
        "{\n",
        "    for (int i = 0; i < ARRAY_SIZE; i++) {\n",
        "        sdot[i] = A[i] * B[i];\n",
        "    }\n",
        "\n",
        "    // add up the elements of the sdot array\n",
        "    float sum = 0;\n",
        "    for (int i = 0; i < ARRAY_SIZE; i++) {\n",
        "        sum += sdot[i];\n",
        "    }\n",
        "\n",
        "    //printf(\"Dot product result: %f\\n\", sum);\n",
        "    //return 0;\n",
        "}\n",
        "\n",
        "void verifyDotProduct(const float* sdot, const float* expected)\n",
        "{\n",
        "    for (int i = 0; i < ARRAY_SIZE; i++) {\n",
        "        if (fabs(sdot[i] - expected[i]) > 1e-5) {\n",
        "            printf(\"Error found at index %d\\n\", i);\n",
        "            return;\n",
        "        }\n",
        "    }\n",
        "    printf(\"No error.\\n\");\n",
        "}\n",
        "\n",
        "int main()\n",
        "{\n",
        "    float* A = (float*)malloc(ARRAY_SIZE * sizeof(float));\n",
        "    float* B = (float*)malloc(ARRAY_SIZE * sizeof(float));\n",
        "    float* sdot = (float*)malloc(ARRAY_SIZE * sizeof(float));\n",
        "    float* expected = (float*)malloc(ARRAY_SIZE * sizeof(float));\n",
        "\n",
        "    // --------------------- C++ version ----------------------------------\n",
        "\n",
        "\n",
        "    //flush out cache\n",
        "    dotProduct(A, B, sdot);\n",
        "\n",
        "    // fill in the host memory with data\n",
        "    for (int i = 0; i < ARRAY_SIZE; i++) {\n",
        "        A[i] = i;\n",
        "        B[i] = i;\n",
        "        expected[i] = A[i] * B[i]; // compute the expected result on the CPU\n",
        "    }\n",
        "\n",
        "    // Measure execution time\n",
        "    clock_t start = clock();\n",
        "\n",
        "    dotProduct(A, B, sdot);\n",
        "\n",
        "    // verify the correctness of the dot product\n",
        "    verifyDotProduct(sdot, expected);\n",
        "\n",
        "    // finish up on the CPU side\n",
        "    float sum = 0;\n",
        "    for (int i = 0; i < ARRAY_SIZE; i++) {\n",
        "        sum += sdot[i];\n",
        "    }\n",
        "\n",
        "    clock_t end = clock();\n",
        "    double time_taken = ((double)(end - start)) * 1e6 / CLOCKS_PER_SEC;\n",
        "\n",
        "    printf(\"Dot product result: %f\\n\", sum);\n",
        "    printf(\"C function took %f microseconds for array size %d \\n\", time_taken, ARRAY_SIZE);\n",
        "// free memory\n",
        "    free(A);\n",
        "    free(B);\n",
        "    free(sdot);\n",
        "    free(expected);\n",
        "\n",
        "    return 0;\n",
        "}"
      ],
      "metadata": {
        "colab": {
          "base_uri": "https://localhost:8080/"
        },
        "id": "5Hg7H2E88WwS",
        "outputId": "fa5207a3-8e02-4cb5-dcbd-3001a6d70886"
      },
      "execution_count": 25,
      "outputs": [
        {
          "output_type": "stream",
          "name": "stdout",
          "text": [
            "Overwriting c_dotProduct.c\n"
          ]
        }
      ]
    },
    {
      "cell_type": "code",
      "source": [
        "%%shell\n",
        "g++ c_dotProduct.c -o c_dotProduct"
      ],
      "metadata": {
        "colab": {
          "base_uri": "https://localhost:8080/"
        },
        "id": "XFLbqGUW9Jeb",
        "outputId": "4174e267-e565-43b9-f82f-3cdb6ab67bb1"
      },
      "execution_count": 26,
      "outputs": [
        {
          "output_type": "execute_result",
          "data": {
            "text/plain": []
          },
          "metadata": {},
          "execution_count": 26
        }
      ]
    },
    {
      "cell_type": "code",
      "source": [
        "%%shell\n",
        "./c_dotProduct"
      ],
      "metadata": {
        "colab": {
          "base_uri": "https://localhost:8080/"
        },
        "id": "NJQWXl7X9QrL",
        "outputId": "2cc55edd-5c83-4623-f94f-3b3da58b6d49"
      },
      "execution_count": 27,
      "outputs": [
        {
          "output_type": "stream",
          "name": "stdout",
          "text": [
            "No error.\n",
            "Dot product result: 384356760757993472.000000\n",
            "C function took 13712.000000 microseconds for array size 1048576 \n"
          ]
        },
        {
          "output_type": "execute_result",
          "data": {
            "text/plain": []
          },
          "metadata": {},
          "execution_count": 27
        }
      ]
    },
    {
      "cell_type": "markdown",
      "source": [
        "###DOTP CUDA version 1.0 : grid-stride loop with prefetching + mem advise"
      ],
      "metadata": {
        "id": "PaugDyyXA5OV"
      }
    },
    {
      "cell_type": "code",
      "source": [
        "%%writefile dotProdGridStride.cu\n",
        "// Mark Jimbo Sarmiento, MSCS\n",
        "#include <stdio.h>\n",
        "#include <stdlib.h>\n",
        "\n",
        "const int ARRAY_SIZE = 1 << 20;\n",
        "//const int numThreadsPerBlock = 256;\n",
        "\n",
        "__global__ void dotProductKernel(int size, float* sdot, const float* A, const float* B) {\n",
        "    int index = threadIdx.x + blockIdx.x * blockDim.x;\n",
        "    int stride = blockDim.x * gridDim.x;\n",
        "\n",
        "    // each thread computes a dot product of two elements\n",
        "    while (index < size) {\n",
        "        sdot[index] = A[index] * B[index];\n",
        "        index += stride;\n",
        "    }\n",
        "}\n",
        "\n",
        "void verifyDotProduct(const float* sdot, const float* expected) {\n",
        "    for (int i = 0; i < ARRAY_SIZE; i++) {\n",
        "        if (fabs(sdot[i] - expected[i]) > 1e-5) {\n",
        "            printf(\"Error found at index %d\\n\", i);\n",
        "            return;\n",
        "        }\n",
        "    }\n",
        "    printf(\"No error.\\n\");\n",
        "}\n",
        "\n",
        "int main() {\n",
        "    const unsigned ARRAY_BYTES = ARRAY_SIZE * sizeof(float);\n",
        "\n",
        "    // Declare array\n",
        "    float* A, * B, * sdot;\n",
        "    cudaMallocManaged(&A, ARRAY_BYTES);\n",
        "    cudaMallocManaged(&B, ARRAY_BYTES);\n",
        "    cudaMallocManaged(&sdot, ARRAY_BYTES);\n",
        "\n",
        "    // Fill the host memory with data\n",
        "    for (int i = 0; i < ARRAY_SIZE; i++) {\n",
        "        A[i] = float(i);\n",
        "        B[i] = float(i);\n",
        "    }\n",
        "\n",
        "    // Call CUDA kernel\n",
        "    int numBlocks = 1024;\n",
        "    int numThreads = 1024;\n",
        "    printf(\"numBlocks = %d, numThreads = %d\\n\", numBlocks, numThreads);\n",
        "    dotProductKernel<<<numBlocks, numThreads>>>(ARRAY_SIZE, sdot, A, B);\n",
        "\n",
        "    // Barrier\n",
        "    cudaDeviceSynchronize();\n",
        "\n",
        "    // Display the dot product result\n",
        "    float sum = 0.0f;\n",
        "    for (int i = 0; i < ARRAY_SIZE; i++) {\n",
        "        sum += sdot[i];\n",
        "    }\n",
        "    printf(\"Dot product result: %f\\n\", sum);\n",
        "\n",
        "    // Verify the correctness of the dot product\n",
        "    float* expected = (float*)malloc(ARRAY_SIZE * sizeof(float));\n",
        "    for (int i = 0; i < ARRAY_SIZE; i++) {\n",
        "        expected[i] = A[i] * B[i]; // compute the expected result on the CPU\n",
        "    }\n",
        "    verifyDotProduct(sdot, expected);\n",
        "    free(expected);\n",
        "\n",
        "    // Free memory\n",
        "    cudaFree(A);\n",
        "    cudaFree(B);\n",
        "    cudaFree(sdot);\n",
        "\n",
        "    return 0;\n",
        "}\n"
      ],
      "metadata": {
        "colab": {
          "base_uri": "https://localhost:8080/"
        },
        "id": "v2Q0uW_Xj5en",
        "outputId": "3e2d3434-f42d-4469-c935-41975603396f"
      },
      "execution_count": 47,
      "outputs": [
        {
          "output_type": "stream",
          "name": "stdout",
          "text": [
            "Overwriting dotProdGridStride.cu\n"
          ]
        }
      ]
    },
    {
      "cell_type": "code",
      "source": [
        "%%shell\n",
        "nvcc dotProdGridStride.cu -o dotProdGridStride"
      ],
      "metadata": {
        "colab": {
          "base_uri": "https://localhost:8080/"
        },
        "id": "_WMXoW3lvggM",
        "outputId": "2e71d8e9-0748-460d-df81-35f4563c8487"
      },
      "execution_count": 48,
      "outputs": [
        {
          "output_type": "execute_result",
          "data": {
            "text/plain": []
          },
          "metadata": {},
          "execution_count": 48
        }
      ]
    },
    {
      "cell_type": "code",
      "source": [
        "%%shell\n",
        "nvprof ./dotProdGridStride"
      ],
      "metadata": {
        "colab": {
          "base_uri": "https://localhost:8080/"
        },
        "id": "6XJKwz-gvkNl",
        "outputId": "76acfe66-58e3-43e2-af14-aaa0ef3b8cd3"
      },
      "execution_count": 49,
      "outputs": [
        {
          "output_type": "stream",
          "name": "stdout",
          "text": [
            "==12412== NVPROF is profiling process 12412, command: ./dotProdGridStride\n",
            "numBlocks = 1024, numThreads = 1024\n",
            "Dot product result: 384356760757993472.000000\n",
            "No error.\n",
            "==12412== Profiling application: ./dotProdGridStride\n",
            "==12412== Profiling result:\n",
            "            Type  Time(%)      Time     Calls       Avg       Min       Max  Name\n",
            " GPU activities:  100.00%  3.4340ms         1  3.4340ms  3.4340ms  3.4340ms  dotProductKernel(int, float*, float const *, float const *)\n",
            "      API calls:   97.10%  151.67ms         3  50.556ms  9.8830us  151.62ms  cudaMallocManaged\n",
            "                    2.20%  3.4422ms         1  3.4422ms  3.4422ms  3.4422ms  cudaDeviceSynchronize\n",
            "                    0.56%  880.63us         3  293.54us  281.90us  315.85us  cudaFree\n",
            "                    0.08%  128.44us       101  1.2710us     159ns  53.492us  cuDeviceGetAttribute\n",
            "                    0.03%  45.255us         1  45.255us  45.255us  45.255us  cudaLaunchKernel\n",
            "                    0.02%  26.562us         1  26.562us  26.562us  26.562us  cuDeviceGetName\n",
            "                    0.00%  6.3800us         1  6.3800us  6.3800us  6.3800us  cuDeviceGetPCIBusId\n",
            "                    0.00%  1.8190us         3     606ns     233ns  1.2850us  cuDeviceGetCount\n",
            "                    0.00%  1.0580us         2     529ns     242ns     816ns  cuDeviceGet\n",
            "                    0.00%     556ns         1     556ns     556ns     556ns  cuModuleGetLoadingMode\n",
            "                    0.00%     431ns         1     431ns     431ns     431ns  cuDeviceTotalMem\n",
            "                    0.00%     261ns         1     261ns     261ns     261ns  cuDeviceGetUuid\n",
            "\n",
            "==12412== Unified Memory profiling result:\n",
            "Device \"Tesla T4 (0)\"\n",
            "   Count  Avg Size  Min Size  Max Size  Total Size  Total Time  Name\n",
            "     166  49.349KB  4.0000KB  924.00KB  8.000000MB  1.076459ms  Host To Device\n",
            "      72  170.67KB  4.0000KB  0.9961MB  12.00000MB  1.087018ms  Device To Host\n",
            "      16         -         -         -           -  3.365126ms  Gpu page fault groups\n",
            "Total CPU Page faults: 60\n"
          ]
        },
        {
          "output_type": "execute_result",
          "data": {
            "text/plain": []
          },
          "metadata": {},
          "execution_count": 49
        }
      ]
    }
  ]
}